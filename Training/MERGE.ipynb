{
 "cells": [
  {
   "cell_type": "code",
   "execution_count": 8,
   "metadata": {},
   "outputs": [
    {
     "ename": "FileNotFoundError",
     "evalue": "File not found: Sleep_Efficiency.csv",
     "output_type": "error",
     "traceback": [
      "\u001b[1;31m---------------------------------------------------------------------------\u001b[0m",
      "\u001b[1;31mFileNotFoundError\u001b[0m                         Traceback (most recent call last)",
      "Cell \u001b[1;32mIn[8], line 16\u001b[0m\n\u001b[0;32m     13\u001b[0m sleep_eff_path \u001b[38;5;241m=\u001b[39m \u001b[38;5;124m\"\u001b[39m\u001b[38;5;124mSleep_Efficiency.csv\u001b[39m\u001b[38;5;124m\"\u001b[39m\n\u001b[0;32m     14\u001b[0m sleep_health_path \u001b[38;5;241m=\u001b[39m \u001b[38;5;124m\"\u001b[39m\u001b[38;5;124mSleep_health_and_lifestyle_dataset.csv\u001b[39m\u001b[38;5;124m\"\u001b[39m\n\u001b[1;32m---> 16\u001b[0m sleep_eff \u001b[38;5;241m=\u001b[39m load_csv(sleep_eff_path)\n\u001b[0;32m     17\u001b[0m sleep_health \u001b[38;5;241m=\u001b[39m load_csv(sleep_health_path)\n\u001b[0;32m     19\u001b[0m \u001b[38;5;66;03m# Rename columns to have a common merge key\u001b[39;00m\n",
      "Cell \u001b[1;32mIn[8], line 7\u001b[0m, in \u001b[0;36mload_csv\u001b[1;34m(file_path)\u001b[0m\n\u001b[0;32m      5\u001b[0m \u001b[38;5;28;01mdef\u001b[39;00m \u001b[38;5;21mload_csv\u001b[39m(file_path):\n\u001b[0;32m      6\u001b[0m     \u001b[38;5;28;01mif\u001b[39;00m \u001b[38;5;129;01mnot\u001b[39;00m os\u001b[38;5;241m.\u001b[39mpath\u001b[38;5;241m.\u001b[39mexists(file_path):\n\u001b[1;32m----> 7\u001b[0m         \u001b[38;5;28;01mraise\u001b[39;00m \u001b[38;5;167;01mFileNotFoundError\u001b[39;00m(\u001b[38;5;124mf\u001b[39m\u001b[38;5;124m\"\u001b[39m\u001b[38;5;124mFile not found: \u001b[39m\u001b[38;5;132;01m{\u001b[39;00mfile_path\u001b[38;5;132;01m}\u001b[39;00m\u001b[38;5;124m\"\u001b[39m)\n\u001b[0;32m      8\u001b[0m     \u001b[38;5;28;01mreturn\u001b[39;00m pd\u001b[38;5;241m.\u001b[39mread_csv(file_path)\n",
      "\u001b[1;31mFileNotFoundError\u001b[0m: File not found: Sleep_Efficiency.csv"
     ]
    }
   ],
   "source": [
    "import pandas as pd\n",
    "import os\n",
    "\n",
    "# Helper function to load CSV with error handling\n",
    "def load_csv(file_path):\n",
    "    if not os.path.exists(file_path):\n",
    "        raise FileNotFoundError(f\"File not found: {file_path}\")\n",
    "    return pd.read_csv(file_path)\n",
    "\n",
    "# -----------------------------\n",
    "# Load & Prepare Sleep-Related Datasets\n",
    "# -----------------------------\n",
    "sleep_eff_path = \"Sleep_Efficiency.csv\"\n",
    "sleep_health_path = \"Sleep_health_and_lifestyle_dataset.csv\"\n",
    "\n",
    "sleep_eff = load_csv(sleep_eff_path)\n",
    "sleep_health = load_csv(sleep_health_path)\n",
    "\n",
    "# Rename columns to have a common merge key\n",
    "sleep_eff.rename(columns={\"ID\": \"Athlete_ID\"}, inplace=True)\n",
    "sleep_health.rename(columns={\"Person ID\": \"Athlete_ID\"}, inplace=True)\n",
    "\n",
    "# Convert Athlete_ID columns to string (if they aren't already)\n",
    "sleep_eff[\"Athlete_ID\"] = sleep_eff[\"Athlete_ID\"].astype(str)\n",
    "sleep_health[\"Athlete_ID\"] = sleep_health[\"Athlete_ID\"].astype(str)\n",
    "\n",
    "print(\"Sleep_Efficiency columns after renaming:\", sleep_eff.columns.tolist())\n",
    "print(\"Sleep_health_and_lifestyle_dataset columns after renaming:\", sleep_health.columns.tolist())\n",
    "\n",
    "# Merge sleep datasets on Athlete_ID\n",
    "sleep_df = pd.merge(sleep_eff, sleep_health, on=\"Athlete_ID\", how=\"outer\")\n",
    "print(\"Sleep-related data merged. Shape:\", sleep_df.shape)\n",
    "\n",
    "# ------------------------------------\n",
    "# Load & Prepare Performance/Recovery Datasets\n",
    "# ------------------------------------\n",
    "athlete_rec_path = \"Athlete_recovery_dataset.csv\"\n",
    "football_path = \"Latest_Football_Players_2024_Data.csv\"\n",
    "\n",
    "athlete_rec = load_csv(athlete_rec_path)\n",
    "football = load_csv(football_path)\n",
    "\n",
    "# Rename 'Players' column to 'Athlete_ID' in the football dataset so it matches athlete_rec\n",
    "football.rename(columns={\"Players\": \"Athlete_ID\"}, inplace=True)\n",
    "\n",
    "# Convert Athlete_ID columns to string to ensure type consistency\n",
    "athlete_rec[\"Athlete_ID\"] = athlete_rec[\"Athlete_ID\"].astype(str)\n",
    "football[\"Athlete_ID\"] = football[\"Athlete_ID\"].astype(str)\n",
    "\n",
    "print(\"\\nAthlete_recovery_dataset columns:\", athlete_rec.columns.tolist())\n",
    "print(\"Latest_Football_Players_2024_Data columns after renaming:\", football.columns.tolist())\n",
    "\n",
    "# Merge performance datasets on Athlete_ID\n",
    "performance_df = pd.merge(athlete_rec, football, on=\"Athlete_ID\", how=\"outer\")\n",
    "print(\"Performance/recovery data merged. Shape:\", performance_df.shape)\n",
    "\n",
    "# ----------------------------------------\n",
    "# Combine Sleep and Performance Data\n",
    "# ----------------------------------------\n",
    "# Merge the sleep and performance data on Athlete_ID\n",
    "combined_df = pd.merge(sleep_df, performance_df, on=\"Athlete_ID\", how=\"outer\")\n",
    "print(\"Combined dataset shape:\", combined_df.shape)\n",
    "\n",
    "# Save the final combined dataset to a CSV file.\n",
    "combined_df.to_csv(\"combined_dataset.csv\", index=False)\n",
    "print(\"Combined dataset saved to 'combined_dataset.csv'\")\n"
   ]
  },
  {
   "cell_type": "code",
   "execution_count": null,
   "metadata": {},
   "outputs": [
    {
     "name": "stdout",
     "output_type": "stream",
     "text": [
      "Cleaned combined dataset saved to 'cleaned_combined_dataset.csv'\n"
     ]
    }
   ],
   "source": [
    "# Option 1: Drop the duplicate columns from one source if they are redundant\n",
    "# For example, if you want to keep the sleep dataset's Age and Gender (assumed to be _x)\n",
    "cleaned_df = combined_df.drop(columns=[\"Age_y\", \"Gender_y\"])\n",
    "\n",
    "# Option 2: Reconcile the columns, e.g., take the non-null value from either column\n",
    "# Uncomment the lines below if you prefer to consolidate the columns\n",
    "\n",
    "# cleaned_df = combined_df.copy()\n",
    "# cleaned_df[\"Age\"] = cleaned_df[\"Age_x\"].combine_first(cleaned_df[\"Age_y\"])\n",
    "# cleaned_df[\"Gender\"] = cleaned_df[\"Gender_x\"].combine_first(cleaned_df[\"Gender_y\"])\n",
    "# cleaned_df = cleaned_df.drop(columns=[\"Age_x\", \"Age_y\", \"Gender_x\", \"Gender_y\"])\n",
    "\n",
    "# Save the cleaned dataset\n",
    "cleaned_df.to_csv(\"cleaned_combined_dataset.csv\", index=False)\n",
    "print(\"Cleaned combined dataset saved to 'cleaned_combined_dataset.csv'\")\n"
   ]
  }
 ],
 "metadata": {
  "kernelspec": {
   "display_name": "base",
   "language": "python",
   "name": "python3"
  },
  "language_info": {
   "codemirror_mode": {
    "name": "ipython",
    "version": 3
   },
   "file_extension": ".py",
   "mimetype": "text/x-python",
   "name": "python",
   "nbconvert_exporter": "python",
   "pygments_lexer": "ipython3",
   "version": "3.12.7"
  }
 },
 "nbformat": 4,
 "nbformat_minor": 2
}
